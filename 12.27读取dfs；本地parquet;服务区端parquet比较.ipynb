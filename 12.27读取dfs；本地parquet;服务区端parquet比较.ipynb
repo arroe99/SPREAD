{
 "cells": [
  {
   "cell_type": "code",
   "execution_count": 1,
   "id": "a9737051",
   "metadata": {},
   "outputs": [],
   "source": [
    "import dolphindb as ddb\n",
    "import time\n",
    "import pandas as pd"
   ]
  },
  {
   "cell_type": "markdown",
   "id": "b5000bda",
   "metadata": {},
   "source": [
    "# 读取dfs数据（仅读取数据）"
   ]
  },
  {
   "cell_type": "code",
   "execution_count": 2,
   "id": "cadf7d92",
   "metadata": {},
   "outputs": [
    {
     "name": "stdout",
     "output_type": "stream",
     "text": [
      "运行时间： 2.7700007194653153e-05 秒\n",
      "运行时间： 0.027700007194653153 毫秒\n"
     ]
    }
   ],
   "source": [
    "start = time.perf_counter()\n",
    "\n",
    "## 仅读表\n",
    "script2 = \"\"\"\n",
    "// STATIC数据\n",
    "STATIC = loadTable(\"dfs://A_STATIC\",`pt)\n",
    "\n",
    "// GUOKAI数据\n",
    "// 读取表  注意和原表不同了，需要把TRADE_DT从日期变回string\n",
    "FILLED_GUOKAI = loadTable('dfs://A_GUOKAI',`pt1)\n",
    "\n",
    "// 读取BONDS数据\n",
    "BONDS = loadTable(\"dfs://A_BONDS\",`pt2)\n",
    "\"\"\"\n",
    "\n",
    "# 获取结束时间\n",
    "end = time.perf_counter()\n",
    "# 计算运行时间\n",
    "runTime1 = end - start\n",
    "runTime_ms1 = runTime1 * 1000\n",
    "# 输出运行时间\n",
    "print(\"运行时间：\", runTime1, \"秒\")\n",
    "print(\"运行时间：\", runTime_ms1, \"毫秒\")\n"
   ]
  },
  {
   "cell_type": "markdown",
   "id": "21e0f919",
   "metadata": {},
   "source": [
    "# 读取dfs数据（读取+处理日期）"
   ]
  },
  {
   "cell_type": "code",
   "execution_count": 3,
   "id": "f60cbae4",
   "metadata": {},
   "outputs": [],
   "source": [
    "# time.clock()默认单位为s\n",
    "# 获取开始时间\n",
    "start = time.perf_counter()"
   ]
  },
  {
   "cell_type": "code",
   "execution_count": 4,
   "id": "a63154a8",
   "metadata": {},
   "outputs": [
    {
     "name": "stdout",
     "output_type": "stream",
     "text": [
      "True\n"
     ]
    }
   ],
   "source": [
    "# 连接服务器节点\n",
    "s = ddb.session()\n",
    "isConnect = s.connect(\"115.239.209.123\", 8892, \"admin\", \"123456\")  # 连接数据库\n",
    "print(isConnect)"
   ]
  },
  {
   "cell_type": "code",
   "execution_count": 5,
   "id": "f3f37356",
   "metadata": {},
   "outputs": [],
   "source": [
    "# 读取表 + 处理日期数据\n",
    "\n",
    "script = \"\"\"\n",
    "// STATIC数据\n",
    "STATIC = loadTable(\"dfs://A_STATIC\",`pt)\n",
    "\n",
    "// GUOKAI数据\n",
    "// 读取表  注意和原表不同了，需要把TRADE_DT从日期变回string\n",
    "FILLED_GUOKAI = loadTable('dfs://A_GUOKAI',`pt1)\n",
    "\n",
    "FILLED_GUOKAI = select * , strReplace(string(TRADE_DT), \".\", \"\") from FILLED_GUOKAI\n",
    "FILLED_GUOKAI.dropColumns!(`TRADE_DT)\n",
    "FILLED_GUOKAI.rename!(`strReplace, `TRADE_DT)\n",
    "\n",
    "\n",
    "// 读取BONDS数据\n",
    "BONDS = loadTable(\"dfs://A_BONDS\",`pt2)\n",
    "\n",
    "BONDS = select * , strReplace(string(TRADE_DT), \".\", \"\") from BONDS\n",
    "BONDS.dropColumns!(`TRADE_DT)\n",
    "BONDS.rename!(`strReplace, `TRADE_DT)\n",
    "\"\"\"\n",
    "\n",
    "s.run(script)"
   ]
  },
  {
   "cell_type": "code",
   "execution_count": 6,
   "id": "b6635b22",
   "metadata": {},
   "outputs": [
    {
     "name": "stdout",
     "output_type": "stream",
     "text": [
      "运行时间： 2.2116921999986516 秒\n",
      "运行时间： 2211.6921999986516 毫秒\n"
     ]
    }
   ],
   "source": [
    "# 获取结束时间\n",
    "end = time.perf_counter()\n",
    "# 计算运行时间\n",
    "runTime = end - start\n",
    "runTime_ms = runTime * 1000\n",
    "# 输出运行时间\n",
    "print(\"运行时间：\", runTime, \"秒\")\n",
    "print(\"运行时间：\", runTime_ms, \"毫秒\")\n"
   ]
  },
  {
   "cell_type": "markdown",
   "id": "ac7e8d06",
   "metadata": {},
   "source": [
    "# 读取本地parquet文件"
   ]
  },
  {
   "cell_type": "code",
   "execution_count": 7,
   "id": "b779a6be",
   "metadata": {},
   "outputs": [],
   "source": [
    "# time.clock()默认单位为s\n",
    "# 获取开始时间\n",
    "start = time.perf_counter()"
   ]
  },
  {
   "cell_type": "code",
   "execution_count": 8,
   "id": "9ae15ab5",
   "metadata": {},
   "outputs": [],
   "source": [
    "# 读取本地数据\n",
    "STATIC = pd.read_parquet('./Results/STATIC.parquet')     # 初始行数21930\n",
    "BONDS = pd.read_parquet('./Results/BONDS.parquet')\n",
    "FILLED_GUOKAI = pd.read_parquet('./Results/FILLED_GUOKAI.parquet')"
   ]
  },
  {
   "cell_type": "code",
   "execution_count": 9,
   "id": "ae2b1d22",
   "metadata": {},
   "outputs": [
    {
     "name": "stdout",
     "output_type": "stream",
     "text": [
      "运行时间： 3.0849808999919333 秒\n",
      "运行时间： 3084.9808999919333 毫秒\n"
     ]
    }
   ],
   "source": [
    "# 获取结束时间\n",
    "end = time.perf_counter()\n",
    "# 计算运行时间\n",
    "runTime = end - start\n",
    "runTime_ms = runTime * 1000\n",
    "# 输出运行时间\n",
    "print(\"运行时间：\", runTime, \"秒\")\n",
    "print(\"运行时间：\", runTime_ms, \"毫秒\")"
   ]
  },
  {
   "cell_type": "markdown",
   "id": "16a34edd",
   "metadata": {},
   "source": [
    "# 读取服务器端parquet文件"
   ]
  },
  {
   "cell_type": "code",
   "execution_count": 10,
   "id": "75633980",
   "metadata": {},
   "outputs": [],
   "source": [
    "# time.clock()默认单位为s\n",
    "# 获取开始时间\n",
    "start = time.perf_counter()"
   ]
  },
  {
   "cell_type": "code",
   "execution_count": 11,
   "id": "ef14dae4",
   "metadata": {},
   "outputs": [
    {
     "name": "stdout",
     "output_type": "stream",
     "text": [
      "True\n"
     ]
    }
   ],
   "source": [
    "# 连接服务器节点\n",
    "s = ddb.session()\n",
    "isConnect = s.connect(\"192.168.100.43\", 7988, \"admin\", \"123456\")  # 连接数据库\n",
    "print(isConnect)\n",
    "\n",
    "script = \"\"\"\n",
    "\n",
    "STATIC = parquet::loadParquet(\"/home/hanyang/luodata/STATIC.parquet\")\n",
    "\n",
    "BONDS = parquet::loadParquet(\"/home/hanyang/luodata/BONDS.parquet\")\n",
    "\n",
    "FILLED_GUOKAI = parquet::loadParquet(\"/home/hanyang/luodata/FILLED_GUOKAI.parquet\")\n",
    "\n",
    "\"\"\"\n",
    "\n",
    "s.run(script)"
   ]
  },
  {
   "cell_type": "code",
   "execution_count": 12,
   "id": "e2ef2787",
   "metadata": {},
   "outputs": [
    {
     "name": "stdout",
     "output_type": "stream",
     "text": [
      "运行时间： 21.042427299995325 秒\n",
      "运行时间： 21042.427299995325 毫秒\n"
     ]
    }
   ],
   "source": [
    "# 获取结束时间\n",
    "end = time.perf_counter()\n",
    "# 计算运行时间\n",
    "runTime = end - start\n",
    "runTime_ms = runTime * 1000\n",
    "# 输出运行时间\n",
    "print(\"运行时间：\", runTime, \"秒\")\n",
    "print(\"运行时间：\", runTime_ms, \"毫秒\")\n"
   ]
  },
  {
   "cell_type": "markdown",
   "id": "d379a6a1",
   "metadata": {},
   "source": [
    "# 结果汇总（某一次运行结果）"
   ]
  },
  {
   "cell_type": "markdown",
   "id": "5465e6e4",
   "metadata": {},
   "source": [
    "| 运行时间   | 读取dfs数据（仅读表） | 读取dfs数据（读表+处理日期） | 读取本地parquet数据 | 读取服务器端parquet数据 |\n",
    "| --------- | --------------------- | -------------------------- | -------------------- | ---------------------- |\n",
    "| 秒        | 2.7700007194653153e-05             | 2.2116                     | 3.0849                 | 21.0424                  |\n",
    "| 毫秒      | 0.0277                 | 2211.6921                  | 3084.9808              | 21042.4272               |\n"
   ]
  },
  {
   "cell_type": "code",
   "execution_count": null,
   "id": "48385982",
   "metadata": {},
   "outputs": [],
   "source": []
  }
 ],
 "metadata": {
  "kernelspec": {
   "display_name": "Python 3 (ipykernel)",
   "language": "python",
   "name": "python3"
  },
  "language_info": {
   "codemirror_mode": {
    "name": "ipython",
    "version": 3
   },
   "file_extension": ".py",
   "mimetype": "text/x-python",
   "name": "python",
   "nbconvert_exporter": "python",
   "pygments_lexer": "ipython3",
   "version": "3.11.5"
  },
  "toc": {
   "base_numbering": 1,
   "nav_menu": {},
   "number_sections": true,
   "sideBar": true,
   "skip_h1_title": false,
   "title_cell": "Table of Contents",
   "title_sidebar": "Contents",
   "toc_cell": false,
   "toc_position": {},
   "toc_section_display": true,
   "toc_window_display": false
  },
  "varInspector": {
   "cols": {
    "lenName": 16,
    "lenType": 16,
    "lenVar": 40
   },
   "kernels_config": {
    "python": {
     "delete_cmd_postfix": "",
     "delete_cmd_prefix": "del ",
     "library": "var_list.py",
     "varRefreshCmd": "print(var_dic_list())"
    },
    "r": {
     "delete_cmd_postfix": ") ",
     "delete_cmd_prefix": "rm(",
     "library": "var_list.r",
     "varRefreshCmd": "cat(var_dic_list()) "
    }
   },
   "types_to_exclude": [
    "module",
    "function",
    "builtin_function_or_method",
    "instance",
    "_Feature"
   ],
   "window_display": false
  }
 },
 "nbformat": 4,
 "nbformat_minor": 5
}
