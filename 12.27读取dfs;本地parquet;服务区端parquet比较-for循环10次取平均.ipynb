{
 "cells": [
  {
   "cell_type": "code",
   "execution_count": 13,
   "id": "b6447578",
   "metadata": {},
   "outputs": [],
   "source": [
    "import dolphindb as ddb\n",
    "import time\n",
    "import pandas as pd"
   ]
  },
  {
   "cell_type": "code",
   "execution_count": 14,
   "id": "242172e0",
   "metadata": {},
   "outputs": [],
   "source": [
    "n = 10"
   ]
  },
  {
   "cell_type": "markdown",
   "id": "468a06fc",
   "metadata": {},
   "source": [
    "# 读取dfs数据（仅读取数据）"
   ]
  },
  {
   "cell_type": "code",
   "execution_count": 31,
   "id": "b0cae557",
   "metadata": {},
   "outputs": [
    {
     "name": "stdout",
     "output_type": "stream",
     "text": [
      "True\n",
      "平均运行时间：0.05736820169976272 秒\n",
      "平均运行时间：57.36820169976272 毫秒\n"
     ]
    }
   ],
   "source": [
    "total_time = 0\n",
    "num_runs = 1000\n",
    "\n",
    "# 连接服务器节点\n",
    "s = ddb.session()\n",
    "isConnect = s.connect(\"115.239.209.123\", 8892, \"admin\", \"123456\")  # 连接数据库\n",
    "print(isConnect)\n",
    "\n",
    "for _ in range(num_runs):\n",
    "    start = time.perf_counter()\n",
    "    \n",
    "    ## 你的代码段\n",
    "    script2 = \"\"\"\n",
    "    // STATIC数据\n",
    "    STATIC = loadTable(\"dfs://A_STATIC\",`pt)\n",
    "\n",
    "    // GUOKAI数据\n",
    "    FILLED_GUOKAI = loadTable('dfs://A_GUOKAI',`pt1)\n",
    "\n",
    "    // 读取BONDS数据\n",
    "    BONDS = loadTable(\"dfs://A_BONDS\",`pt2)\n",
    "    \"\"\"\n",
    "    s.run(script2)\n",
    "    \n",
    "    end = time.perf_counter()\n",
    "    runTime = end - start\n",
    "    total_time += runTime\n",
    "\n",
    "# 计算平均时间\n",
    "avg_run_time = total_time / num_runs\n",
    "avg_run_time_ms = avg_run_time * 1000\n",
    "\n",
    "# 输出平均运行时间\n",
    "print(f\"平均运行时间：{avg_run_time} 秒\")\n",
    "print(f\"平均运行时间：{avg_run_time_ms} 毫秒\")\n"
   ]
  },
  {
   "cell_type": "markdown",
   "id": "ada30d63",
   "metadata": {},
   "source": [
    "# 读取dfs数据（读取+处理日期）"
   ]
  },
  {
   "cell_type": "markdown",
   "id": "9683b5b4",
   "metadata": {},
   "source": [
    "__注：  \n",
    "存储的时候因为把trade_date作为分区列，将其从string vector转成了date vector，因此在读取的时候把它转变回来。  \n",
    "但是我的写法可能效率不高，说不定可以改进__"
   ]
  },
  {
   "cell_type": "code",
   "execution_count": 16,
   "id": "bd1fb3ea",
   "metadata": {},
   "outputs": [],
   "source": [
    "# time.clock()默认单位为s\n",
    "# 获取开始时间\n",
    "start = time.perf_counter()"
   ]
  },
  {
   "cell_type": "code",
   "execution_count": 17,
   "id": "53448464",
   "metadata": {},
   "outputs": [
    {
     "name": "stdout",
     "output_type": "stream",
     "text": [
      "True\n"
     ]
    }
   ],
   "source": [
    "# 连接服务器节点\n",
    "s = ddb.session()\n",
    "isConnect = s.connect(\"115.239.209.123\", 8892, \"admin\", \"123456\")  # 连接数据库\n",
    "print(isConnect)"
   ]
  },
  {
   "cell_type": "code",
   "execution_count": 18,
   "id": "6e9b1b3d",
   "metadata": {},
   "outputs": [],
   "source": [
    "# 读取表 + 处理日期数据\n",
    "\n",
    "script = \"\"\"\n",
    "// STATIC数据\n",
    "STATIC = loadTable(\"dfs://A_STATIC\",`pt)\n",
    "\n",
    "// GUOKAI数据\n",
    "// 读取表  注意和原表不同了，需要把TRADE_DT从日期变回string\n",
    "FILLED_GUOKAI = loadTable('dfs://A_GUOKAI',`pt1)\n",
    "\n",
    "FILLED_GUOKAI = select * , strReplace(string(TRADE_DT), \".\", \"\") from FILLED_GUOKAI\n",
    "FILLED_GUOKAI.dropColumns!(`TRADE_DT)\n",
    "FILLED_GUOKAI.rename!(`strReplace, `TRADE_DT)\n",
    "\n",
    "\n",
    "// 读取BONDS数据\n",
    "BONDS = loadTable(\"dfs://A_BONDS\",`pt2)\n",
    "\n",
    "BONDS = select * , strReplace(string(TRADE_DT), \".\", \"\") from BONDS\n",
    "BONDS.dropColumns!(`TRADE_DT)\n",
    "BONDS.rename!(`strReplace, `TRADE_DT)\n",
    "\"\"\"\n",
    "\n",
    "for i in range(10):\n",
    "    s.run(script)"
   ]
  },
  {
   "cell_type": "code",
   "execution_count": 19,
   "id": "eace4a00",
   "metadata": {},
   "outputs": [
    {
     "name": "stdout",
     "output_type": "stream",
     "text": [
      "运行时间： 2.3553763599993545 秒\n",
      "运行时间： 2355.3763599993545 毫秒\n"
     ]
    }
   ],
   "source": [
    "# 获取结束时间\n",
    "end = time.perf_counter()\n",
    "# 计算运行时间\n",
    "runTime = end - start\n",
    "runTime = runTime/n\n",
    "runTime_ms = runTime * 1000\n",
    "# 输出运行时间\n",
    "print(\"运行时间：\", runTime, \"秒\")\n",
    "print(\"运行时间：\", runTime_ms, \"毫秒\")"
   ]
  },
  {
   "cell_type": "markdown",
   "id": "53bbb8d0",
   "metadata": {},
   "source": [
    "# 读取本地parquet文件"
   ]
  },
  {
   "cell_type": "code",
   "execution_count": 20,
   "id": "d3fbfa49",
   "metadata": {},
   "outputs": [],
   "source": [
    "# time.clock()默认单位为s\n",
    "# 获取开始时间\n",
    "start = time.perf_counter()"
   ]
  },
  {
   "cell_type": "code",
   "execution_count": 21,
   "id": "bca004ce",
   "metadata": {},
   "outputs": [],
   "source": [
    "for i in range(n):\n",
    "    # 读取本地数据\n",
    "    STATIC = pd.read_parquet('./Results/STATIC.parquet')     # 初始行数21930\n",
    "    BONDS = pd.read_parquet('./Results/BONDS.parquet')\n",
    "    FILLED_GUOKAI = pd.read_parquet('./Results/FILLED_GUOKAI.parquet')"
   ]
  },
  {
   "cell_type": "code",
   "execution_count": 22,
   "id": "25e5de9b",
   "metadata": {},
   "outputs": [
    {
     "name": "stdout",
     "output_type": "stream",
     "text": [
      "运行时间： 2.5964221799993537 秒\n",
      "运行时间： 2596.422179999354 毫秒\n"
     ]
    }
   ],
   "source": [
    "# 获取结束时间\n",
    "end = time.perf_counter()\n",
    "# 计算运行时间\n",
    "runTime = end - start\n",
    "runTime = runTime/n\n",
    "runTime_ms = runTime * 1000\n",
    "# 输出运行时间\n",
    "print(\"运行时间：\", runTime, \"秒\")\n",
    "print(\"运行时间：\", runTime_ms, \"毫秒\")"
   ]
  },
  {
   "cell_type": "markdown",
   "id": "4af12740",
   "metadata": {},
   "source": [
    "# 读取服务器端parquet文件"
   ]
  },
  {
   "cell_type": "code",
   "execution_count": 23,
   "id": "e1b33c57",
   "metadata": {},
   "outputs": [],
   "source": [
    "# time.clock()默认单位为s\n",
    "# 获取开始时间\n",
    "start = time.perf_counter()"
   ]
  },
  {
   "cell_type": "code",
   "execution_count": 24,
   "id": "81e3120d",
   "metadata": {},
   "outputs": [
    {
     "name": "stdout",
     "output_type": "stream",
     "text": [
      "True\n"
     ]
    }
   ],
   "source": [
    "# 连接服务器节点\n",
    "s = ddb.session()\n",
    "isConnect = s.connect(\"192.168.100.43\", 7988, \"admin\", \"123456\")  # 连接数据库\n",
    "print(isConnect)\n",
    "\n",
    "script = \"\"\"\n",
    "\n",
    "STATIC = parquet::loadParquet(\"/home/hanyang/luodata/STATIC.parquet\")\n",
    "\n",
    "BONDS = parquet::loadParquet(\"/home/hanyang/luodata/BONDS.parquet\")\n",
    "\n",
    "FILLED_GUOKAI = parquet::loadParquet(\"/home/hanyang/luodata/FILLED_GUOKAI.parquet\")\n",
    "\n",
    "\"\"\"\n",
    "\n",
    "s.run(script)\n",
    "\n",
    "for i in range(n):\n",
    "    s.run(script)"
   ]
  },
  {
   "cell_type": "code",
   "execution_count": 25,
   "id": "542cc397",
   "metadata": {},
   "outputs": [
    {
     "name": "stdout",
     "output_type": "stream",
     "text": [
      "运行时间： 19.19155965999962 秒\n",
      "运行时间： 19191.55965999962 毫秒\n"
     ]
    }
   ],
   "source": [
    "# 获取结束时间\n",
    "end = time.perf_counter()\n",
    "# 计算运行时间\n",
    "runTime = end - start\n",
    "runTime = runTime/n\n",
    "runTime_ms = runTime * 1000\n",
    "# 输出运行时间\n",
    "print(\"运行时间：\", runTime, \"秒\")\n",
    "print(\"运行时间：\", runTime_ms, \"毫秒\")\n"
   ]
  },
  {
   "cell_type": "markdown",
   "id": "d65472c1",
   "metadata": {},
   "source": [
    "# 结果汇总（平均结果）"
   ]
  },
  {
   "cell_type": "markdown",
   "id": "8d3ecf24",
   "metadata": {},
   "source": [
    "| 运行时间   | 读取dfs数据（仅读表） | 读取dfs数据（读表+处理日期） | 读取本地parquet数据 | 读取服务器端parquet数据 |\n",
    "| --------- | --------------------- | -------------------------- | -------------------- | ---------------------- |\n",
    "| 秒        | 0.0573             | 2.3553                     | 2.5964                 | 19.1915                  |\n",
    "| 毫秒      | 57.3682                 |  2355.3763                  | 2596.4221              | 19191.5596               |\n"
   ]
  },
  {
   "cell_type": "markdown",
   "id": "2d7a8929",
   "metadata": {},
   "source": [
    "__说明：__\n",
    "\n",
    "读取dfs数据（仅读表）循环10次结果仍然不稳定，因此设置运行了1000次取平均。\n",
    "\n",
    "其他读取结果为循环运行10次取平均的结果，基本稳定，多次运行数值不会改变"
   ]
  },
  {
   "cell_type": "code",
   "execution_count": null,
   "id": "7f0db9fe",
   "metadata": {},
   "outputs": [],
   "source": []
  }
 ],
 "metadata": {
  "kernelspec": {
   "display_name": "Python 3 (ipykernel)",
   "language": "python",
   "name": "python3"
  },
  "language_info": {
   "codemirror_mode": {
    "name": "ipython",
    "version": 3
   },
   "file_extension": ".py",
   "mimetype": "text/x-python",
   "name": "python",
   "nbconvert_exporter": "python",
   "pygments_lexer": "ipython3",
   "version": "3.11.5"
  },
  "toc": {
   "base_numbering": 1,
   "nav_menu": {},
   "number_sections": true,
   "sideBar": true,
   "skip_h1_title": false,
   "title_cell": "Table of Contents",
   "title_sidebar": "Contents",
   "toc_cell": false,
   "toc_position": {},
   "toc_section_display": true,
   "toc_window_display": false
  },
  "varInspector": {
   "cols": {
    "lenName": 16,
    "lenType": 16,
    "lenVar": 40
   },
   "kernels_config": {
    "python": {
     "delete_cmd_postfix": "",
     "delete_cmd_prefix": "del ",
     "library": "var_list.py",
     "varRefreshCmd": "print(var_dic_list())"
    },
    "r": {
     "delete_cmd_postfix": ") ",
     "delete_cmd_prefix": "rm(",
     "library": "var_list.r",
     "varRefreshCmd": "cat(var_dic_list()) "
    }
   },
   "types_to_exclude": [
    "module",
    "function",
    "builtin_function_or_method",
    "instance",
    "_Feature"
   ],
   "window_display": false
  }
 },
 "nbformat": 4,
 "nbformat_minor": 5
}
