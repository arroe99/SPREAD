{
 "cells": [
  {
   "cell_type": "code",
   "execution_count": 1,
   "id": "37b54804",
   "metadata": {},
   "outputs": [],
   "source": [
    "import dolphindb as ddb\n",
    "import time\n",
    "import pandas as pd"
   ]
  },
  {
   "cell_type": "markdown",
   "id": "838feb16",
   "metadata": {},
   "source": [
    "# 读取dfs数据（仅读取数据）"
   ]
  },
  {
   "cell_type": "code",
   "execution_count": 2,
   "id": "ed3ca8c1",
   "metadata": {},
   "outputs": [
    {
     "name": "stdout",
     "output_type": "stream",
     "text": [
      "运行时间： 2.7700007194653153e-05 秒\n",
      "运行时间： 0.027700007194653153 毫秒\n"
     ]
    }
   ],
   "source": [
    "start = time.perf_counter()\n",
    "\n",
    "## 仅读表\n",
    "script2 = \"\"\"\n",
    "// STATIC数据\n",
    "STATIC = loadTable(\"dfs://A_STATIC\",`pt)\n",
    "\n",
    "// GUOKAI数据\n",
    "// 读取表  注意和原表不同了，需要把TRADE_DT从日期变回string\n",
    "FILLED_GUOKAI = loadTable('dfs://A_GUOKAI',`pt1)\n",
    "\n",
    "// 读取BONDS数据\n",
    "BONDS = loadTable(\"dfs://A_BONDS\",`pt2)\n",
    "\"\"\"\n",
    "\n",
    "# 获取结束时间\n",
    "end = time.perf_counter()\n",
    "# 计算运行时间\n",
    "runTime1 = end - start\n",
    "runTime_ms1 = runTime1 * 1000\n",
    "# 输出运行时间\n",
    "print(\"运行时间：\", runTime1, \"秒\")\n",
    "print(\"运行时间：\", runTime_ms1, \"毫秒\")\n"
   ]
  },
  {
   "cell_type": "markdown",
   "id": "24966583",
   "metadata": {},
   "source": [
    "# 读取dfs数据（读取+处理日期）"
   ]
  },
  {
   "cell_type": "code",
   "execution_count": 3,
   "id": "71391302",
   "metadata": {},
   "outputs": [],
   "source": [
    "# time.clock()默认单位为s\n",
    "# 获取开始时间\n",
    "start = time.perf_counter()"
   ]
  },
  {
   "cell_type": "code",
   "execution_count": 4,
   "id": "9170b9c0",
   "metadata": {},
   "outputs": [
    {
     "name": "stdout",
     "output_type": "stream",
     "text": [
      "True\n"
     ]
    }
   ],
   "source": [
    "# 连接服务器节点\n",
    "s = ddb.session()\n",
    "isConnect = s.connect(\"115.239.209.123\", 8892, \"admin\", \"123456\")  # 连接数据库\n",
    "print(isConnect)"
   ]
  },
  {
   "cell_type": "code",
   "execution_count": 5,
   "id": "816a65d0",
   "metadata": {},
   "outputs": [],
   "source": [
    "# 读取表 + 处理日期数据\n",
    "\n",
    "script = \"\"\"\n",
    "// STATIC数据\n",
    "STATIC = loadTable(\"dfs://A_STATIC\",`pt)\n",
    "\n",
    "// GUOKAI数据\n",
    "// 读取表  注意和原表不同了，需要把TRADE_DT从日期变回string\n",
    "FILLED_GUOKAI = loadTable('dfs://A_GUOKAI',`pt1)\n",
    "\n",
    "FILLED_GUOKAI = select * , strReplace(string(TRADE_DT), \".\", \"\") from FILLED_GUOKAI\n",
    "FILLED_GUOKAI.dropColumns!(`TRADE_DT)\n",
    "FILLED_GUOKAI.rename!(`strReplace, `TRADE_DT)\n",
    "\n",
    "\n",
    "// 读取BONDS数据\n",
    "BONDS = loadTable(\"dfs://A_BONDS\",`pt2)\n",
    "\n",
    "BONDS = select * , strReplace(string(TRADE_DT), \".\", \"\") from BONDS\n",
    "BONDS.dropColumns!(`TRADE_DT)\n",
    "BONDS.rename!(`strReplace, `TRADE_DT)\n",
    "\"\"\"\n",
    "\n",
    "s.run(script)"
   ]
  },
  {
   "cell_type": "code",
   "execution_count": 6,
   "id": "ca5a6d29",
   "metadata": {},
   "outputs": [
    {
     "name": "stdout",
     "output_type": "stream",
     "text": [
      "运行时间： 2.2116921999986516 秒\n",
      "运行时间： 2211.6921999986516 毫秒\n"
     ]
    }
   ],
   "source": [
    "# 获取结束时间\n",
    "end = time.perf_counter()\n",
    "# 计算运行时间\n",
    "runTime = end - start\n",
    "runTime_ms = runTime * 1000\n",
    "# 输出运行时间\n",
    "print(\"运行时间：\", runTime, \"秒\")\n",
    "print(\"运行时间：\", runTime_ms, \"毫秒\")\n"
   ]
  },
  {
   "cell_type": "markdown",
   "id": "0e02289b",
   "metadata": {},
   "source": [
    "# 读取本地parquet文件"
   ]
  },
  {
   "cell_type": "code",
   "execution_count": 7,
   "id": "3c105ada",
   "metadata": {},
   "outputs": [],
   "source": [
    "# time.clock()默认单位为s\n",
    "# 获取开始时间\n",
    "start = time.perf_counter()"
   ]
  },
  {
   "cell_type": "code",
   "execution_count": 8,
   "id": "b4aec1cd",
   "metadata": {},
   "outputs": [],
   "source": [
    "# 读取本地数据\n",
    "STATIC = pd.read_parquet('./Results/STATIC.parquet')     # 初始行数21930\n",
    "BONDS = pd.read_parquet('./Results/BONDS.parquet')\n",
    "FILLED_GUOKAI = pd.read_parquet('./Results/FILLED_GUOKAI.parquet')"
   ]
  },
  {
   "cell_type": "code",
   "execution_count": 9,
   "id": "a5c28616",
   "metadata": {},
   "outputs": [
    {
     "name": "stdout",
     "output_type": "stream",
     "text": [
      "运行时间： 3.0849808999919333 秒\n",
      "运行时间： 3084.9808999919333 毫秒\n"
     ]
    }
   ],
   "source": [
    "# 获取结束时间\n",
    "end = time.perf_counter()\n",
    "# 计算运行时间\n",
    "runTime = end - start\n",
    "runTime_ms = runTime * 1000\n",
    "# 输出运行时间\n",
    "print(\"运行时间：\", runTime, \"秒\")\n",
    "print(\"运行时间：\", runTime_ms, \"毫秒\")"
   ]
  },
  {
   "cell_type": "markdown",
   "id": "d54fdce0",
   "metadata": {},
   "source": [
    "# 读取服务器端parquet文件"
   ]
  },
  {
   "cell_type": "code",
   "execution_count": 10,
   "id": "3f779bd1",
   "metadata": {},
   "outputs": [],
   "source": [
    "# time.clock()默认单位为s\n",
    "# 获取开始时间\n",
    "start = time.perf_counter()"
   ]
  },
  {
   "cell_type": "code",
   "execution_count": 11,
   "id": "7c867bb5",
   "metadata": {},
   "outputs": [
    {
     "name": "stdout",
     "output_type": "stream",
     "text": [
      "True\n"
     ]
    }
   ],
   "source": [
    "# 连接服务器节点\n",
    "s = ddb.session()\n",
    "isConnect = s.connect(\"192.168.100.43\", 7988, \"admin\", \"123456\")  # 连接数据库\n",
    "print(isConnect)\n",
    "\n",
    "script = \"\"\"\n",
    "\n",
    "STATIC = parquet::loadParquet(\"/home/hanyang/luodata/STATIC.parquet\")\n",
    "\n",
    "BONDS = parquet::loadParquet(\"/home/hanyang/luodata/BONDS.parquet\")\n",
    "\n",
    "FILLED_GUOKAI = parquet::loadParquet(\"/home/hanyang/luodata/FILLED_GUOKAI.parquet\")\n",
    "\n",
    "\"\"\"\n",
    "\n",
    "s.run(script)"
   ]
  },
  {
   "cell_type": "code",
   "execution_count": 12,
   "id": "d64f9aa6",
   "metadata": {},
   "outputs": [
    {
     "name": "stdout",
     "output_type": "stream",
     "text": [
      "运行时间： 21.042427299995325 秒\n",
      "运行时间： 21042.427299995325 毫秒\n"
     ]
    }
   ],
   "source": [
    "# 获取结束时间\n",
    "end = time.perf_counter()\n",
    "# 计算运行时间\n",
    "runTime = end - start\n",
    "runTime_ms = runTime * 1000\n",
    "# 输出运行时间\n",
    "print(\"运行时间：\", runTime, \"秒\")\n",
    "print(\"运行时间：\", runTime_ms, \"毫秒\")\n"
   ]
  },
  {
   "cell_type": "markdown",
   "id": "f7b015af",
   "metadata": {},
   "source": [
    "# 结果汇总（某一次运行结果）"
   ]
  },
  {
   "cell_type": "markdown",
   "id": "7a69a686",
   "metadata": {},
   "source": [
    "| 运行时间   | 读取dfs数据（仅读表） | 读取dfs数据（读表+处理日期） | 读取本地parquet数据 | 读取服务器端parquet数据 |\n",
    "| --------- | --------------------- | -------------------------- | -------------------- | ---------------------- |\n",
    "| 秒        | 2.7700007194653153e-05             | 3.4574                     | 2.2116                 | 20.46                  |\n",
    "| 毫秒      | 0.044                 | 3457.4894                  | 2211.6921              | 20464.95               |\n"
   ]
  },
  {
   "cell_type": "code",
   "execution_count": null,
   "id": "14ce972f",
   "metadata": {},
   "outputs": [],
   "source": []
  }
 ],
 "metadata": {
  "kernelspec": {
   "display_name": "Python 3 (ipykernel)",
   "language": "python",
   "name": "python3"
  },
  "language_info": {
   "codemirror_mode": {
    "name": "ipython",
    "version": 3
   },
   "file_extension": ".py",
   "mimetype": "text/x-python",
   "name": "python",
   "nbconvert_exporter": "python",
   "pygments_lexer": "ipython3",
   "version": "3.11.5"
  },
  "toc": {
   "base_numbering": 1,
   "nav_menu": {},
   "number_sections": true,
   "sideBar": true,
   "skip_h1_title": false,
   "title_cell": "Table of Contents",
   "title_sidebar": "Contents",
   "toc_cell": false,
   "toc_position": {},
   "toc_section_display": true,
   "toc_window_display": false
  },
  "varInspector": {
   "cols": {
    "lenName": 16,
    "lenType": 16,
    "lenVar": 40
   },
   "kernels_config": {
    "python": {
     "delete_cmd_postfix": "",
     "delete_cmd_prefix": "del ",
     "library": "var_list.py",
     "varRefreshCmd": "print(var_dic_list())"
    },
    "r": {
     "delete_cmd_postfix": ") ",
     "delete_cmd_prefix": "rm(",
     "library": "var_list.r",
     "varRefreshCmd": "cat(var_dic_list()) "
    }
   },
   "types_to_exclude": [
    "module",
    "function",
    "builtin_function_or_method",
    "instance",
    "_Feature"
   ],
   "window_display": false
  }
 },
 "nbformat": 4,
 "nbformat_minor": 5
}
